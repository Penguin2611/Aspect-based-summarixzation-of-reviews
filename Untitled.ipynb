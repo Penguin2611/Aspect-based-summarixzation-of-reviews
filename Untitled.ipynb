{
 "cells": [
  {
   "cell_type": "code",
   "execution_count": 11,
   "metadata": {},
   "outputs": [
    {
     "name": "stdout",
     "output_type": "stream",
     "text": [
      "['rodman', 'quinn', 'stavros', 'team', 'movie']\n"
     ]
    }
   ],
   "source": [
    "from nltk.corpus import stopwords \n",
    "stop_words = set(stopwords.words('english')) \n",
    "import spacy\n",
    "import pandas as pd\n",
    "import os\n",
    "DATA_DIR=\"path to data\"\n",
    "nlp=spacy.load(r\"C:\\Users\\Tushar\\Anaconda3\\Lib\\site-packages\\en_core_web_sm\") \n",
    "\n",
    "\n",
    "\"\"\"Define a function to extract keywords\"\"\"\n",
    "def get_aspects(x):\n",
    "    doc=nlp(x) ## Tokenize and extract grammatical components\n",
    "    doc=[i.text for i in doc if i.text not in stop_words and i.pos_==\"NOUN\"] ## Remove common words and retain only nouns\n",
    "    doc=list(map(lambda i: i.lower(),doc)) ## Normalize text to lower case\n",
    "    doc=pd.Series(doc)\n",
    "    doc=doc.value_counts().head().index.tolist() ## Get 5 most frequent nouns\n",
    "    return doc\n",
    "\n",
    "\n",
    "\"\"\"Read the data\"\"\"\n",
    "con=open('cv000_tok-9611.txt')\n",
    "rev=con.read()\n",
    "con.close()\n",
    "\n",
    "\n",
    "\"\"\"Apply the function to get aspects from reviews\"\"\"\n",
    "print(get_aspects(rev))"
   ]
  },
  {
   "cell_type": "code",
   "execution_count": null,
   "metadata": {},
   "outputs": [],
   "source": []
  }
 ],
 "metadata": {
  "kernelspec": {
   "display_name": "Python 3",
   "language": "python",
   "name": "python3"
  }
 },
 "nbformat": 4,
 "nbformat_minor": 2
}
